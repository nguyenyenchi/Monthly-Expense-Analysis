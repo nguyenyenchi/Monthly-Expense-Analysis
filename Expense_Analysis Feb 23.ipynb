{
 "cells": [
  {
   "cell_type": "markdown",
   "id": "9bb71717-6934-4362-b344-bf5e4259ab34",
   "metadata": {},
   "source": [
    "# Expense Analysis February 2023"
   ]
  },
  {
   "cell_type": "markdown",
   "id": "f3aa9a5d",
   "metadata": {},
   "source": [
    "## Import dependencies"
   ]
  },
  {
   "cell_type": "code",
   "execution_count": 39,
   "id": "8f749edc",
   "metadata": {},
   "outputs": [],
   "source": [
    "import pandas as pd\n",
    "import statistics as stats\n",
    "import numpy as np\n",
    "import matplotlib.pyplot as plt"
   ]
  },
  {
   "cell_type": "markdown",
   "id": "947d81b4",
   "metadata": {},
   "source": [
    "## Load dataset"
   ]
  },
  {
   "cell_type": "code",
   "execution_count": 40,
   "id": "6c12748a",
   "metadata": {},
   "outputs": [],
   "source": [
    "df_expense = pd.read_csv('MoneyNote at 2023_08_27.csv')"
   ]
  },
  {
   "cell_type": "markdown",
   "id": "5c460880",
   "metadata": {},
   "source": [
    "## Overview"
   ]
  },
  {
   "cell_type": "code",
   "execution_count": 41,
   "id": "188b7d4e",
   "metadata": {},
   "outputs": [
    {
     "data": {
      "text/html": [
       "<div>\n",
       "<style scoped>\n",
       "    .dataframe tbody tr th:only-of-type {\n",
       "        vertical-align: middle;\n",
       "    }\n",
       "\n",
       "    .dataframe tbody tr th {\n",
       "        vertical-align: top;\n",
       "    }\n",
       "\n",
       "    .dataframe thead th {\n",
       "        text-align: right;\n",
       "    }\n",
       "</style>\n",
       "<table border=\"1\" class=\"dataframe\">\n",
       "  <thead>\n",
       "    <tr style=\"text-align: right;\">\n",
       "      <th></th>\n",
       "      <th>inputDate</th>\n",
       "      <th>amount(cent)</th>\n",
       "      <th>memo</th>\n",
       "      <th>type</th>\n",
       "      <th>categoryId</th>\n",
       "      <th>categoryName</th>\n",
       "      <th>categoryIcon</th>\n",
       "      <th>categoryColor</th>\n",
       "      <th>categoryIndex</th>\n",
       "      <th>fixedCostSettingId</th>\n",
       "      <th>fixedCostSettingStartDate</th>\n",
       "      <th>fixedCostSettingEndDate</th>\n",
       "      <th>fixedCostSettingFrequency</th>\n",
       "      <th>fixedCostSettingLastInsertedToDailyData</th>\n",
       "      <th>dayOffOption</th>\n",
       "    </tr>\n",
       "  </thead>\n",
       "  <tbody>\n",
       "    <tr>\n",
       "      <th>0</th>\n",
       "      <td>2022/12/3</td>\n",
       "      <td>1700.0</td>\n",
       "      <td>NaN</td>\n",
       "      <td>Expense</td>\n",
       "      <td>18</td>\n",
       "      <td>Social</td>\n",
       "      <td>category12</td>\n",
       "      <td>ff548f</td>\n",
       "      <td>19</td>\n",
       "      <td>NaN</td>\n",
       "      <td>NaN</td>\n",
       "      <td>NaN</td>\n",
       "      <td>NaN</td>\n",
       "      <td>NaN</td>\n",
       "      <td>NaN</td>\n",
       "    </tr>\n",
       "  </tbody>\n",
       "</table>\n",
       "</div>"
      ],
      "text/plain": [
       "   inputDate   amount(cent)  memo     type   categoryId  categoryName  \\\n",
       "0  2022/12/3         1700.0   NaN  Expense           18        Social   \n",
       "\n",
       "   categoryIcon  categoryColor   categoryIndex   fixedCostSettingId  \\\n",
       "0    category12         ff548f              19                  NaN   \n",
       "\n",
       "    fixedCostSettingStartDate   fixedCostSettingEndDate  \\\n",
       "0                         NaN                       NaN   \n",
       "\n",
       "    fixedCostSettingFrequency   fixedCostSettingLastInsertedToDailyData  \\\n",
       "0                         NaN                                       NaN   \n",
       "\n",
       "    dayOffOption  \n",
       "0            NaN  "
      ]
     },
     "execution_count": 41,
     "metadata": {},
     "output_type": "execute_result"
    }
   ],
   "source": [
    "# First row\n",
    "df_expense[:1]"
   ]
  },
  {
   "cell_type": "code",
   "execution_count": 42,
   "id": "6e7401ff",
   "metadata": {},
   "outputs": [
    {
     "data": {
      "text/html": [
       "<div>\n",
       "<style scoped>\n",
       "    .dataframe tbody tr th:only-of-type {\n",
       "        vertical-align: middle;\n",
       "    }\n",
       "\n",
       "    .dataframe tbody tr th {\n",
       "        vertical-align: top;\n",
       "    }\n",
       "\n",
       "    .dataframe thead th {\n",
       "        text-align: right;\n",
       "    }\n",
       "</style>\n",
       "<table border=\"1\" class=\"dataframe\">\n",
       "  <thead>\n",
       "    <tr style=\"text-align: right;\">\n",
       "      <th></th>\n",
       "      <th>inputDate</th>\n",
       "      <th>amount(cent)</th>\n",
       "      <th>memo</th>\n",
       "      <th>type</th>\n",
       "      <th>categoryId</th>\n",
       "      <th>categoryName</th>\n",
       "      <th>categoryIcon</th>\n",
       "      <th>categoryColor</th>\n",
       "      <th>categoryIndex</th>\n",
       "      <th>fixedCostSettingId</th>\n",
       "      <th>fixedCostSettingStartDate</th>\n",
       "      <th>fixedCostSettingEndDate</th>\n",
       "      <th>fixedCostSettingFrequency</th>\n",
       "      <th>fixedCostSettingLastInsertedToDailyData</th>\n",
       "      <th>dayOffOption</th>\n",
       "    </tr>\n",
       "  </thead>\n",
       "  <tbody>\n",
       "    <tr>\n",
       "      <th>311</th>\n",
       "      <td>NaN</td>\n",
       "      <td>NaN</td>\n",
       "      <td>NaN</td>\n",
       "      <td>Income</td>\n",
       "      <td>16</td>\n",
       "      <td>Investment</td>\n",
       "      <td>categoryDefault15</td>\n",
       "      <td>42d2c1</td>\n",
       "      <td>16</td>\n",
       "      <td>NaN</td>\n",
       "      <td>NaN</td>\n",
       "      <td>NaN</td>\n",
       "      <td>NaN</td>\n",
       "      <td>NaN</td>\n",
       "      <td>NaN</td>\n",
       "    </tr>\n",
       "  </tbody>\n",
       "</table>\n",
       "</div>"
      ],
      "text/plain": [
       "    inputDate   amount(cent)  memo    type   categoryId  categoryName  \\\n",
       "311       NaN            NaN   NaN  Income           16    Investment   \n",
       "\n",
       "          categoryIcon  categoryColor   categoryIndex   fixedCostSettingId  \\\n",
       "311  categoryDefault15         42d2c1              16                  NaN   \n",
       "\n",
       "      fixedCostSettingStartDate   fixedCostSettingEndDate  \\\n",
       "311                         NaN                       NaN   \n",
       "\n",
       "      fixedCostSettingFrequency   fixedCostSettingLastInsertedToDailyData  \\\n",
       "311                         NaN                                       NaN   \n",
       "\n",
       "      dayOffOption  \n",
       "311            NaN  "
      ]
     },
     "execution_count": 42,
     "metadata": {},
     "output_type": "execute_result"
    }
   ],
   "source": [
    "# Last row\n",
    "df_expense[-1:]"
   ]
  },
  {
   "cell_type": "code",
   "execution_count": 43,
   "id": "498195fc",
   "metadata": {},
   "outputs": [
    {
     "data": {
      "text/plain": [
       "Index(['inputDate', ' amount(cent)', ' memo', ' type', ' categoryId',\n",
       "       ' categoryName', ' categoryIcon', ' categoryColor', ' categoryIndex',\n",
       "       ' fixedCostSettingId', ' fixedCostSettingStartDate',\n",
       "       ' fixedCostSettingEndDate', ' fixedCostSettingFrequency',\n",
       "       ' fixedCostSettingLastInsertedToDailyData', ' dayOffOption'],\n",
       "      dtype='object')"
      ]
     },
     "execution_count": 43,
     "metadata": {},
     "output_type": "execute_result"
    }
   ],
   "source": [
    "df_expense.columns"
   ]
  },
  {
   "cell_type": "markdown",
   "id": "25eaf744",
   "metadata": {},
   "source": [
    "## Create new df without unnecessary columns"
   ]
  },
  {
   "cell_type": "code",
   "execution_count": 44,
   "id": "1f8759d9-31f9-4e58-abf8-e46a2d45797b",
   "metadata": {},
   "outputs": [
    {
     "name": "stdout",
     "output_type": "stream",
     "text": [
      "<class 'pandas.core.frame.DataFrame'>\n",
      "RangeIndex: 312 entries, 0 to 311\n",
      "Data columns (total 5 columns):\n",
      " #   Column         Non-Null Count  Dtype  \n",
      "---  ------         --------------  -----  \n",
      " 0   inputDate      310 non-null    object \n",
      " 1    amount(cent)  310 non-null    float64\n",
      " 2    memo          279 non-null    object \n",
      " 3    type          312 non-null    object \n",
      " 4    categoryName  312 non-null    object \n",
      "dtypes: float64(1), object(4)\n",
      "memory usage: 12.3+ KB\n"
     ]
    }
   ],
   "source": [
    "df = df_expense[['inputDate', ' amount(cent)', ' memo', ' type', ' categoryName']].copy()\n",
    "\n",
    "df.info()"
   ]
  },
  {
   "cell_type": "markdown",
   "id": "2a083a87",
   "metadata": {},
   "source": [
    "## Preprocessing"
   ]
  },
  {
   "cell_type": "code",
   "execution_count": 45,
   "id": "1d5ca7a9",
   "metadata": {},
   "outputs": [],
   "source": [
    "# Create a preprocessing function to transform our dataset\n",
    "# Go through each column\n",
    "\n",
    "def preprocessing(df):\n",
    "    # Remove spaces from column name\n",
    "    df.columns = df.columns.str.strip()\n",
    "    \n",
    "    # Drop rows where inputDate and amount(cent) values are missing\n",
    "    df.dropna(subset=['inputDate', 'amount(cent)'], inplace=True)\n",
    "    \n",
    "    # Convert date from object to datetime\n",
    "    df[\"inputDate\"] = pd.to_datetime(df[\"inputDate\"])\n",
    "    \n",
    "    # Create new columns for Month and Year\n",
    "    df['month'] = df['inputDate'].dt.month\n",
    "    df['year'] = df['inputDate'].dt.year\n",
    "    \n",
    "    # Create a new column for dollar\n",
    "    df['amount(dollar)'] = df['amount(cent)'] / 100.00 \n",
    "    \n",
    "    # Drop amount(cent) column\n",
    "    df.drop(columns='amount(cent)', inplace=True)\n",
    "    \n",
    "    # Convert memo to lower case\n",
    "    df['memo'] = df['memo'].str.lower()\n",
    "    # Fill missing values for memo\n",
    "    df['memo'].fillna('missing', inplace=True)\n",
    "\n",
    "preprocessing(df)"
   ]
  },
  {
   "cell_type": "code",
   "execution_count": 46,
   "id": "af226caa-a835-46d0-8fa3-094a2f0ba6ad",
   "metadata": {},
   "outputs": [
    {
     "name": "stdout",
     "output_type": "stream",
     "text": [
      "<class 'pandas.core.frame.DataFrame'>\n",
      "Int64Index: 310 entries, 0 to 309\n",
      "Data columns (total 7 columns):\n",
      " #   Column          Non-Null Count  Dtype         \n",
      "---  ------          --------------  -----         \n",
      " 0   inputDate       310 non-null    datetime64[ns]\n",
      " 1   memo            310 non-null    object        \n",
      " 2   type            310 non-null    object        \n",
      " 3   categoryName    310 non-null    object        \n",
      " 4   month           310 non-null    int64         \n",
      " 5   year            310 non-null    int64         \n",
      " 6   amount(dollar)  310 non-null    float64       \n",
      "dtypes: datetime64[ns](1), float64(1), int64(2), object(3)\n",
      "memory usage: 19.4+ KB\n"
     ]
    }
   ],
   "source": [
    "df.info()\n",
    "\n",
    "# df.head()"
   ]
  },
  {
   "cell_type": "markdown",
   "id": "7df2f3e2",
   "metadata": {},
   "source": [
    "## Create a new dataframe for expense only"
   ]
  },
  {
   "cell_type": "code",
   "execution_count": 47,
   "id": "abc4300e",
   "metadata": {},
   "outputs": [],
   "source": [
    "exp = df[df['type']=='Expense'].copy()"
   ]
  },
  {
   "cell_type": "code",
   "execution_count": 48,
   "id": "2fd7853c",
   "metadata": {},
   "outputs": [
    {
     "name": "stdout",
     "output_type": "stream",
     "text": [
      "<class 'pandas.core.frame.DataFrame'>\n",
      "Int64Index: 289 entries, 0 to 309\n",
      "Data columns (total 7 columns):\n",
      " #   Column          Non-Null Count  Dtype         \n",
      "---  ------          --------------  -----         \n",
      " 0   inputDate       289 non-null    datetime64[ns]\n",
      " 1   memo            289 non-null    object        \n",
      " 2   type            289 non-null    object        \n",
      " 3   categoryName    289 non-null    object        \n",
      " 4   month           289 non-null    int64         \n",
      " 5   year            289 non-null    int64         \n",
      " 6   amount(dollar)  289 non-null    float64       \n",
      "dtypes: datetime64[ns](1), float64(1), int64(2), object(3)\n",
      "memory usage: 18.1+ KB\n"
     ]
    }
   ],
   "source": [
    "exp.info()"
   ]
  },
  {
   "cell_type": "code",
   "execution_count": 49,
   "id": "6eaf386c-4d3d-4ee0-a170-3ca483b6c001",
   "metadata": {},
   "outputs": [
    {
     "data": {
      "text/html": [
       "<div>\n",
       "<style scoped>\n",
       "    .dataframe tbody tr th:only-of-type {\n",
       "        vertical-align: middle;\n",
       "    }\n",
       "\n",
       "    .dataframe tbody tr th {\n",
       "        vertical-align: top;\n",
       "    }\n",
       "\n",
       "    .dataframe thead th {\n",
       "        text-align: right;\n",
       "    }\n",
       "</style>\n",
       "<table border=\"1\" class=\"dataframe\">\n",
       "  <thead>\n",
       "    <tr style=\"text-align: right;\">\n",
       "      <th></th>\n",
       "      <th>inputDate</th>\n",
       "      <th>memo</th>\n",
       "      <th>type</th>\n",
       "      <th>categoryName</th>\n",
       "      <th>month</th>\n",
       "      <th>year</th>\n",
       "      <th>amount(dollar)</th>\n",
       "    </tr>\n",
       "  </thead>\n",
       "  <tbody>\n",
       "    <tr>\n",
       "      <th>0</th>\n",
       "      <td>2022-12-03</td>\n",
       "      <td>missing</td>\n",
       "      <td>Expense</td>\n",
       "      <td>Social</td>\n",
       "      <td>12</td>\n",
       "      <td>2022</td>\n",
       "      <td>17.00</td>\n",
       "    </tr>\n",
       "    <tr>\n",
       "      <th>1</th>\n",
       "      <td>2022-12-05</td>\n",
       "      <td>w</td>\n",
       "      <td>Expense</td>\n",
       "      <td>Food</td>\n",
       "      <td>12</td>\n",
       "      <td>2022</td>\n",
       "      <td>5.40</td>\n",
       "    </tr>\n",
       "    <tr>\n",
       "      <th>2</th>\n",
       "      <td>2022-12-05</td>\n",
       "      <td>uber</td>\n",
       "      <td>Expense</td>\n",
       "      <td>Transportation</td>\n",
       "      <td>12</td>\n",
       "      <td>2022</td>\n",
       "      <td>32.63</td>\n",
       "    </tr>\n",
       "    <tr>\n",
       "      <th>3</th>\n",
       "      <td>2022-12-03</td>\n",
       "      <td>uber home</td>\n",
       "      <td>Expense</td>\n",
       "      <td>Transportation</td>\n",
       "      <td>12</td>\n",
       "      <td>2022</td>\n",
       "      <td>27.64</td>\n",
       "    </tr>\n",
       "    <tr>\n",
       "      <th>4</th>\n",
       "      <td>2022-12-05</td>\n",
       "      <td>uber home from work</td>\n",
       "      <td>Expense</td>\n",
       "      <td>Transportation</td>\n",
       "      <td>12</td>\n",
       "      <td>2022</td>\n",
       "      <td>25.22</td>\n",
       "    </tr>\n",
       "  </tbody>\n",
       "</table>\n",
       "</div>"
      ],
      "text/plain": [
       "   inputDate                 memo     type    categoryName  month  year  \\\n",
       "0 2022-12-03              missing  Expense          Social     12  2022   \n",
       "1 2022-12-05                    w  Expense            Food     12  2022   \n",
       "2 2022-12-05                 uber  Expense  Transportation     12  2022   \n",
       "3 2022-12-03            uber home  Expense  Transportation     12  2022   \n",
       "4 2022-12-05  uber home from work  Expense  Transportation     12  2022   \n",
       "\n",
       "   amount(dollar)  \n",
       "0           17.00  \n",
       "1            5.40  \n",
       "2           32.63  \n",
       "3           27.64  \n",
       "4           25.22  "
      ]
     },
     "execution_count": 49,
     "metadata": {},
     "output_type": "execute_result"
    }
   ],
   "source": [
    "exp.head()"
   ]
  },
  {
   "cell_type": "markdown",
   "id": "bda2b708-b380-4c74-bc1b-82454c517045",
   "metadata": {},
   "source": [
    "## Create new dataframe for August"
   ]
  },
  {
   "cell_type": "code",
   "execution_count": 50,
   "id": "537d12bc-2801-46b9-8542-a960e373fb31",
   "metadata": {},
   "outputs": [],
   "source": [
    "aug = exp[exp['inputDate'].dt.month == 2].copy()"
   ]
  },
  {
   "cell_type": "code",
   "execution_count": 51,
   "id": "99be417b-b7b8-4ad2-8249-1514a94f6cc5",
   "metadata": {},
   "outputs": [
    {
     "data": {
      "text/html": [
       "<div>\n",
       "<style scoped>\n",
       "    .dataframe tbody tr th:only-of-type {\n",
       "        vertical-align: middle;\n",
       "    }\n",
       "\n",
       "    .dataframe tbody tr th {\n",
       "        vertical-align: top;\n",
       "    }\n",
       "\n",
       "    .dataframe thead th {\n",
       "        text-align: right;\n",
       "    }\n",
       "</style>\n",
       "<table border=\"1\" class=\"dataframe\">\n",
       "  <thead>\n",
       "    <tr style=\"text-align: right;\">\n",
       "      <th></th>\n",
       "      <th>inputDate</th>\n",
       "      <th>memo</th>\n",
       "      <th>type</th>\n",
       "      <th>categoryName</th>\n",
       "      <th>month</th>\n",
       "      <th>year</th>\n",
       "      <th>amount(dollar)</th>\n",
       "    </tr>\n",
       "  </thead>\n",
       "  <tbody>\n",
       "    <tr>\n",
       "      <th>80</th>\n",
       "      <td>2023-02-02</td>\n",
       "      <td>lunch socials</td>\n",
       "      <td>Expense</td>\n",
       "      <td>Social</td>\n",
       "      <td>2</td>\n",
       "      <td>2023</td>\n",
       "      <td>18.0</td>\n",
       "    </tr>\n",
       "    <tr>\n",
       "      <th>81</th>\n",
       "      <td>2023-02-03</td>\n",
       "      <td>groc</td>\n",
       "      <td>Expense</td>\n",
       "      <td>Food</td>\n",
       "      <td>2</td>\n",
       "      <td>2023</td>\n",
       "      <td>29.0</td>\n",
       "    </tr>\n",
       "    <tr>\n",
       "      <th>82</th>\n",
       "      <td>2023-02-04</td>\n",
       "      <td>yogurt cookie</td>\n",
       "      <td>Expense</td>\n",
       "      <td>Splurge</td>\n",
       "      <td>2</td>\n",
       "      <td>2023</td>\n",
       "      <td>2.0</td>\n",
       "    </tr>\n",
       "    <tr>\n",
       "      <th>83</th>\n",
       "      <td>2023-02-06</td>\n",
       "      <td>g</td>\n",
       "      <td>Expense</td>\n",
       "      <td>Food</td>\n",
       "      <td>2</td>\n",
       "      <td>2023</td>\n",
       "      <td>30.0</td>\n",
       "    </tr>\n",
       "    <tr>\n",
       "      <th>84</th>\n",
       "      <td>2023-02-06</td>\n",
       "      <td>yogurt bis</td>\n",
       "      <td>Expense</td>\n",
       "      <td>Splurge</td>\n",
       "      <td>2</td>\n",
       "      <td>2023</td>\n",
       "      <td>2.2</td>\n",
       "    </tr>\n",
       "  </tbody>\n",
       "</table>\n",
       "</div>"
      ],
      "text/plain": [
       "    inputDate           memo     type categoryName  month  year  \\\n",
       "80 2023-02-02  lunch socials  Expense       Social      2  2023   \n",
       "81 2023-02-03           groc  Expense         Food      2  2023   \n",
       "82 2023-02-04  yogurt cookie  Expense      Splurge      2  2023   \n",
       "83 2023-02-06              g  Expense         Food      2  2023   \n",
       "84 2023-02-06     yogurt bis  Expense      Splurge      2  2023   \n",
       "\n",
       "    amount(dollar)  \n",
       "80            18.0  \n",
       "81            29.0  \n",
       "82             2.0  \n",
       "83            30.0  \n",
       "84             2.2  "
      ]
     },
     "execution_count": 51,
     "metadata": {},
     "output_type": "execute_result"
    }
   ],
   "source": [
    "aug.head()"
   ]
  },
  {
   "cell_type": "markdown",
   "id": "92b1a490-ee40-4336-9854-ab8d66c6dba4",
   "metadata": {},
   "source": [
    "### Spent by Category"
   ]
  },
  {
   "cell_type": "code",
   "execution_count": 52,
   "id": "03121a19-19f8-49f7-8d16-9807689b9966",
   "metadata": {},
   "outputs": [
    {
     "data": {
      "text/plain": [
       "categoryName\n",
       "Housing expenses    352.00\n",
       "Food                193.32\n",
       "Splurge              60.11\n",
       "Education            35.00\n",
       "Health, Medicine     22.00\n",
       "Transportation       21.00\n",
       "Social               18.00\n",
       "Insurance            15.28\n",
       "Name: amount(dollar), dtype: float64"
      ]
     },
     "execution_count": 52,
     "metadata": {},
     "output_type": "execute_result"
    }
   ],
   "source": [
    "# What is the percentage of different purchases category in this month?\n",
    "categorySpent = aug.groupby('categoryName')['amount(dollar)'].sum().sort_values(ascending=False)\n",
    "categorySpent"
   ]
  },
  {
   "cell_type": "code",
   "execution_count": 53,
   "id": "71742be2-cc8d-41ab-9910-e0e06079f82a",
   "metadata": {},
   "outputs": [
    {
     "data": {
      "text/plain": [
       "716.7099999999999"
      ]
     },
     "execution_count": 53,
     "metadata": {},
     "output_type": "execute_result"
    }
   ],
   "source": [
    "# Get sum of all purchases\n",
    "sumByCategory = categorySpent.sum()\n",
    "sumByCategory"
   ]
  },
  {
   "cell_type": "code",
   "execution_count": 54,
   "id": "c032a440-01b3-405e-8a90-b264793626c5",
   "metadata": {},
   "outputs": [
    {
     "data": {
      "text/plain": [
       "categoryName\n",
       "Housing expenses    49.113309\n",
       "Food                26.973253\n",
       "Splurge              8.386935\n",
       "Education            4.883426\n",
       "Health, Medicine     3.069582\n",
       "Transportation       2.930055\n",
       "Social               2.511476\n",
       "Insurance            2.131964\n",
       "Name: amount(dollar), dtype: float64"
      ]
     },
     "execution_count": 54,
     "metadata": {},
     "output_type": "execute_result"
    }
   ],
   "source": [
    "# Calculate the percentage for each category\n",
    "category_percentage = (categorySpent  / sumByCategory) * 100\n",
    "category_percentage"
   ]
  },
  {
   "cell_type": "markdown",
   "id": "778b0025-d897-4bd1-be1e-4625751984c0",
   "metadata": {},
   "source": [
    "### Pie chart visualisation"
   ]
  },
  {
   "cell_type": "code",
   "execution_count": 55,
   "id": "904e3256-6084-4f78-b5a8-18269874dc40",
   "metadata": {},
   "outputs": [
    {
     "data": {
      "image/png": "[encoded data removed]",
      "text/plain": [
       "<Figure size 648x504 with 1 Axes>"
      ]
     },
     "metadata": {},
     "output_type": "display_data"
    }
   ],
   "source": [
    "# Set the figure size\n",
    "plt.figure(figsize=(9, 7))  \n",
    "plt.pie(category_percentage, labels=category_percentage.index, autopct='%1.0f%%', startangle=140)\n",
    "plt.title('Category Percentage Distribution')  # Set the chart title\n",
    "\n",
    "# Equal aspect ratio ensures that pie is drawn as a circle.\n",
    "plt.axis('equal')  \n",
    "plt.show()"
   ]
  },
  {
   "cell_type": "markdown",
   "id": "8dae263d-9b6c-4c2f-9ef3-75c313a61ee1",
   "metadata": {},
   "source": [
    "### Food"
   ]
  },
  {
   "cell_type": "code",
   "execution_count": 56,
   "id": "0d87d19d-f132-4aff-a1a7-0a8637b673a4",
   "metadata": {},
   "outputs": [],
   "source": [
    "food = aug[aug['categoryName'] == 'Food'].copy()"
   ]
  },
  {
   "cell_type": "code",
   "execution_count": 57,
   "id": "f1352508-e6ec-41c9-8e0e-9881fceb1065",
   "metadata": {},
   "outputs": [
    {
     "data": {
      "text/html": [
       "<div>\n",
       "<style scoped>\n",
       "    .dataframe tbody tr th:only-of-type {\n",
       "        vertical-align: middle;\n",
       "    }\n",
       "\n",
       "    .dataframe tbody tr th {\n",
       "        vertical-align: top;\n",
       "    }\n",
       "\n",
       "    .dataframe thead th {\n",
       "        text-align: right;\n",
       "    }\n",
       "</style>\n",
       "<table border=\"1\" class=\"dataframe\">\n",
       "  <thead>\n",
       "    <tr style=\"text-align: right;\">\n",
       "      <th></th>\n",
       "      <th>inputDate</th>\n",
       "      <th>memo</th>\n",
       "      <th>type</th>\n",
       "      <th>categoryName</th>\n",
       "      <th>month</th>\n",
       "      <th>year</th>\n",
       "      <th>amount(dollar)</th>\n",
       "    </tr>\n",
       "  </thead>\n",
       "  <tbody>\n",
       "    <tr>\n",
       "      <th>81</th>\n",
       "      <td>2023-02-03</td>\n",
       "      <td>groc</td>\n",
       "      <td>Expense</td>\n",
       "      <td>Food</td>\n",
       "      <td>2</td>\n",
       "      <td>2023</td>\n",
       "      <td>29.0</td>\n",
       "    </tr>\n",
       "    <tr>\n",
       "      <th>83</th>\n",
       "      <td>2023-02-06</td>\n",
       "      <td>g</td>\n",
       "      <td>Expense</td>\n",
       "      <td>Food</td>\n",
       "      <td>2</td>\n",
       "      <td>2023</td>\n",
       "      <td>30.0</td>\n",
       "    </tr>\n",
       "    <tr>\n",
       "      <th>88</th>\n",
       "      <td>2023-02-07</td>\n",
       "      <td>tortilla</td>\n",
       "      <td>Expense</td>\n",
       "      <td>Food</td>\n",
       "      <td>2</td>\n",
       "      <td>2023</td>\n",
       "      <td>2.5</td>\n",
       "    </tr>\n",
       "    <tr>\n",
       "      <th>90</th>\n",
       "      <td>2023-02-08</td>\n",
       "      <td>fruit</td>\n",
       "      <td>Expense</td>\n",
       "      <td>Food</td>\n",
       "      <td>2</td>\n",
       "      <td>2023</td>\n",
       "      <td>6.8</td>\n",
       "    </tr>\n",
       "    <tr>\n",
       "      <th>92</th>\n",
       "      <td>2023-02-10</td>\n",
       "      <td>groc</td>\n",
       "      <td>Expense</td>\n",
       "      <td>Food</td>\n",
       "      <td>2</td>\n",
       "      <td>2023</td>\n",
       "      <td>31.7</td>\n",
       "    </tr>\n",
       "  </tbody>\n",
       "</table>\n",
       "</div>"
      ],
      "text/plain": [
       "    inputDate      memo     type categoryName  month  year  amount(dollar)\n",
       "81 2023-02-03      groc  Expense         Food      2  2023            29.0\n",
       "83 2023-02-06         g  Expense         Food      2  2023            30.0\n",
       "88 2023-02-07  tortilla  Expense         Food      2  2023             2.5\n",
       "90 2023-02-08     fruit  Expense         Food      2  2023             6.8\n",
       "92 2023-02-10      groc  Expense         Food      2  2023            31.7"
      ]
     },
     "execution_count": 57,
     "metadata": {},
     "output_type": "execute_result"
    }
   ],
   "source": [
    "food.head()"
   ]
  },
  {
   "cell_type": "code",
   "execution_count": 58,
   "id": "145261bb-3abe-45bc-9a94-7a44fef3c64f",
   "metadata": {},
   "outputs": [
    {
     "data": {
      "text/plain": [
       "memo\n",
       "fruit            6.80\n",
       "g               86.37\n",
       "groc            94.35\n",
       "orange juice     3.30\n",
       "tortilla         2.50\n",
       "Name: amount(dollar), dtype: float64"
      ]
     },
     "execution_count": 58,
     "metadata": {},
     "output_type": "execute_result"
    }
   ],
   "source": [
    "foodPurchases = food.groupby('memo')['amount(dollar)'].sum()\n",
    "foodPurchases"
   ]
  },
  {
   "cell_type": "code",
   "execution_count": 59,
   "id": "3e091033-7a2a-4e16-ba32-bed98059798c",
   "metadata": {},
   "outputs": [
    {
     "data": {
      "text/plain": [
       "193.32"
      ]
     },
     "execution_count": 59,
     "metadata": {},
     "output_type": "execute_result"
    }
   ],
   "source": [
    "sumFoodPurchases = foodPurchases.sum()\n",
    "sumFoodPurchases"
   ]
  },
  {
   "cell_type": "code",
   "execution_count": 60,
   "id": "2eb2978d-c099-45f3-a880-6ef203048f4a",
   "metadata": {},
   "outputs": [],
   "source": [
    "food_pct = foodPurchases / sumFoodPurchases * 100"
   ]
  },
  {
   "cell_type": "code",
   "execution_count": 61,
   "id": "60f3e7d0-336d-4785-abe6-8ca094b07c8b",
   "metadata": {},
   "outputs": [
    {
     "data": {
      "image/png": "[encoded data removed]",
      "text/plain": [
       "<Figure size 648x504 with 1 Axes>"
      ]
     },
     "metadata": {},
     "output_type": "display_data"
    }
   ],
   "source": [
    "plt.figure(figsize=(9,7))\n",
    "plt.pie(food_pct, labels=food_pct.index, autopct='%1.0f%%')\n",
    "plt.title('Percentages of food purchases')\n",
    "plt.show()"
   ]
  },
  {
   "cell_type": "markdown",
   "id": "f7fcbd34-87de-4dec-80d5-b18559884a91",
   "metadata": {},
   "source": [
    "### Splurge "
   ]
  },
  {
   "cell_type": "code",
   "execution_count": 62,
   "id": "3b966b4a-fd49-46a9-a455-b05b176b8d60",
   "metadata": {},
   "outputs": [],
   "source": [
    "splurge = aug[aug['categoryName'] == 'Splurge'].copy()"
   ]
  },
  {
   "cell_type": "code",
   "execution_count": 63,
   "id": "c30b3dfb-ccae-48dc-9ed5-74d1fb901812",
   "metadata": {},
   "outputs": [
    {
     "data": {
      "text/html": [
       "<div>\n",
       "<style scoped>\n",
       "    .dataframe tbody tr th:only-of-type {\n",
       "        vertical-align: middle;\n",
       "    }\n",
       "\n",
       "    .dataframe tbody tr th {\n",
       "        vertical-align: top;\n",
       "    }\n",
       "\n",
       "    .dataframe thead th {\n",
       "        text-align: right;\n",
       "    }\n",
       "</style>\n",
       "<table border=\"1\" class=\"dataframe\">\n",
       "  <thead>\n",
       "    <tr style=\"text-align: right;\">\n",
       "      <th></th>\n",
       "      <th>inputDate</th>\n",
       "      <th>memo</th>\n",
       "      <th>type</th>\n",
       "      <th>categoryName</th>\n",
       "      <th>month</th>\n",
       "      <th>year</th>\n",
       "      <th>amount(dollar)</th>\n",
       "    </tr>\n",
       "  </thead>\n",
       "  <tbody>\n",
       "    <tr>\n",
       "      <th>82</th>\n",
       "      <td>2023-02-04</td>\n",
       "      <td>yogurt cookie</td>\n",
       "      <td>Expense</td>\n",
       "      <td>Splurge</td>\n",
       "      <td>2</td>\n",
       "      <td>2023</td>\n",
       "      <td>2.00</td>\n",
       "    </tr>\n",
       "    <tr>\n",
       "      <th>84</th>\n",
       "      <td>2023-02-06</td>\n",
       "      <td>yogurt bis</td>\n",
       "      <td>Expense</td>\n",
       "      <td>Splurge</td>\n",
       "      <td>2</td>\n",
       "      <td>2023</td>\n",
       "      <td>2.20</td>\n",
       "    </tr>\n",
       "    <tr>\n",
       "      <th>87</th>\n",
       "      <td>2023-02-07</td>\n",
       "      <td>yogurt ck</td>\n",
       "      <td>Expense</td>\n",
       "      <td>Splurge</td>\n",
       "      <td>2</td>\n",
       "      <td>2023</td>\n",
       "      <td>2.15</td>\n",
       "    </tr>\n",
       "  </tbody>\n",
       "</table>\n",
       "</div>"
      ],
      "text/plain": [
       "    inputDate           memo     type categoryName  month  year  \\\n",
       "82 2023-02-04  yogurt cookie  Expense      Splurge      2  2023   \n",
       "84 2023-02-06     yogurt bis  Expense      Splurge      2  2023   \n",
       "87 2023-02-07      yogurt ck  Expense      Splurge      2  2023   \n",
       "\n",
       "    amount(dollar)  \n",
       "82            2.00  \n",
       "84            2.20  \n",
       "87            2.15  "
      ]
     },
     "execution_count": 63,
     "metadata": {},
     "output_type": "execute_result"
    }
   ],
   "source": [
    "# First 3 records\n",
    "splurge[:3]"
   ]
  },
  {
   "cell_type": "markdown",
   "id": "c4593d0e-dc13-4375-af7f-0e46951cd1de",
   "metadata": {},
   "source": [
    "### Unhealthy snack"
   ]
  },
  {
   "cell_type": "code",
   "execution_count": 64,
   "id": "3963f37f-e509-45ce-976f-2de6ec03d1fd",
   "metadata": {},
   "outputs": [],
   "source": [
    "snack = aug[aug['categoryName'] == 'Unhealthy snack'].copy()"
   ]
  },
  {
   "cell_type": "code",
   "execution_count": 65,
   "id": "2f239ae3-9a5c-41e7-93b9-da89af9b1088",
   "metadata": {},
   "outputs": [
    {
     "data": {
      "text/html": [
       "<div>\n",
       "<style scoped>\n",
       "    .dataframe tbody tr th:only-of-type {\n",
       "        vertical-align: middle;\n",
       "    }\n",
       "\n",
       "    .dataframe tbody tr th {\n",
       "        vertical-align: top;\n",
       "    }\n",
       "\n",
       "    .dataframe thead th {\n",
       "        text-align: right;\n",
       "    }\n",
       "</style>\n",
       "<table border=\"1\" class=\"dataframe\">\n",
       "  <thead>\n",
       "    <tr style=\"text-align: right;\">\n",
       "      <th></th>\n",
       "      <th>inputDate</th>\n",
       "      <th>memo</th>\n",
       "      <th>type</th>\n",
       "      <th>categoryName</th>\n",
       "      <th>month</th>\n",
       "      <th>year</th>\n",
       "      <th>amount(dollar)</th>\n",
       "    </tr>\n",
       "  </thead>\n",
       "  <tbody>\n",
       "  </tbody>\n",
       "</table>\n",
       "</div>"
      ],
      "text/plain": [
       "Empty DataFrame\n",
       "Columns: [inputDate, memo, type, categoryName, month, year, amount(dollar)]\n",
       "Index: []"
      ]
     },
     "execution_count": 65,
     "metadata": {},
     "output_type": "execute_result"
    }
   ],
   "source": [
    "snack"
   ]
  },
  {
   "cell_type": "markdown",
   "id": "f1b812f1-e360-416c-a12f-089637ce8bab",
   "metadata": {},
   "source": [
    "### Social"
   ]
  },
  {
   "cell_type": "code",
   "execution_count": 66,
   "id": "b6a2ed05-6ee6-4e0a-9447-3494aa890670",
   "metadata": {},
   "outputs": [
    {
     "data": {
      "text/html": [
       "<div>\n",
       "<style scoped>\n",
       "    .dataframe tbody tr th:only-of-type {\n",
       "        vertical-align: middle;\n",
       "    }\n",
       "\n",
       "    .dataframe tbody tr th {\n",
       "        vertical-align: top;\n",
       "    }\n",
       "\n",
       "    .dataframe thead th {\n",
       "        text-align: right;\n",
       "    }\n",
       "</style>\n",
       "<table border=\"1\" class=\"dataframe\">\n",
       "  <thead>\n",
       "    <tr style=\"text-align: right;\">\n",
       "      <th></th>\n",
       "      <th>inputDate</th>\n",
       "      <th>memo</th>\n",
       "      <th>type</th>\n",
       "      <th>categoryName</th>\n",
       "      <th>month</th>\n",
       "      <th>year</th>\n",
       "      <th>amount(dollar)</th>\n",
       "    </tr>\n",
       "  </thead>\n",
       "  <tbody>\n",
       "    <tr>\n",
       "      <th>80</th>\n",
       "      <td>2023-02-02</td>\n",
       "      <td>lunch socials</td>\n",
       "      <td>Expense</td>\n",
       "      <td>Social</td>\n",
       "      <td>2</td>\n",
       "      <td>2023</td>\n",
       "      <td>18.0</td>\n",
       "    </tr>\n",
       "  </tbody>\n",
       "</table>\n",
       "</div>"
      ],
      "text/plain": [
       "    inputDate           memo     type categoryName  month  year  \\\n",
       "80 2023-02-02  lunch socials  Expense       Social      2  2023   \n",
       "\n",
       "    amount(dollar)  \n",
       "80            18.0  "
      ]
     },
     "execution_count": 66,
     "metadata": {},
     "output_type": "execute_result"
    }
   ],
   "source": [
    "social = aug[aug['categoryName'] == 'Social'].copy()\n",
    "social"
   ]
  },
  {
   "cell_type": "markdown",
   "id": "011eed39-71a5-4d2e-9f9b-7e52d65141ed",
   "metadata": {},
   "source": [
    "### Health, Medicine"
   ]
  },
  {
   "cell_type": "code",
   "execution_count": 67,
   "id": "4e8a6f4e-0789-4fbc-a211-db55b089ec3c",
   "metadata": {},
   "outputs": [
    {
     "data": {
      "text/html": [
       "<div>\n",
       "<style scoped>\n",
       "    .dataframe tbody tr th:only-of-type {\n",
       "        vertical-align: middle;\n",
       "    }\n",
       "\n",
       "    .dataframe tbody tr th {\n",
       "        vertical-align: top;\n",
       "    }\n",
       "\n",
       "    .dataframe thead th {\n",
       "        text-align: right;\n",
       "    }\n",
       "</style>\n",
       "<table border=\"1\" class=\"dataframe\">\n",
       "  <thead>\n",
       "    <tr style=\"text-align: right;\">\n",
       "      <th></th>\n",
       "      <th>inputDate</th>\n",
       "      <th>memo</th>\n",
       "      <th>type</th>\n",
       "      <th>categoryName</th>\n",
       "      <th>month</th>\n",
       "      <th>year</th>\n",
       "      <th>amount(dollar)</th>\n",
       "    </tr>\n",
       "  </thead>\n",
       "  <tbody>\n",
       "    <tr>\n",
       "      <th>85</th>\n",
       "      <td>2023-02-07</td>\n",
       "      <td>sunscreen</td>\n",
       "      <td>Expense</td>\n",
       "      <td>Health, Medicine</td>\n",
       "      <td>2</td>\n",
       "      <td>2023</td>\n",
       "      <td>18.0</td>\n",
       "    </tr>\n",
       "    <tr>\n",
       "      <th>86</th>\n",
       "      <td>2023-02-07</td>\n",
       "      <td>micellar water</td>\n",
       "      <td>Expense</td>\n",
       "      <td>Health, Medicine</td>\n",
       "      <td>2</td>\n",
       "      <td>2023</td>\n",
       "      <td>4.0</td>\n",
       "    </tr>\n",
       "  </tbody>\n",
       "</table>\n",
       "</div>"
      ],
      "text/plain": [
       "    inputDate            memo     type      categoryName  month  year  \\\n",
       "85 2023-02-07       sunscreen  Expense  Health, Medicine      2  2023   \n",
       "86 2023-02-07  micellar water  Expense  Health, Medicine      2  2023   \n",
       "\n",
       "    amount(dollar)  \n",
       "85            18.0  \n",
       "86             4.0  "
      ]
     },
     "execution_count": 67,
     "metadata": {},
     "output_type": "execute_result"
    }
   ],
   "source": [
    "aug[aug['categoryName'] == 'Health, Medicine']"
   ]
  },
  {
   "cell_type": "markdown",
   "id": "6a30d9a4-e80a-4519-a7fc-f9f69de3791f",
   "metadata": {},
   "source": [
    "### Oneoff expenses "
   ]
  },
  {
   "cell_type": "code",
   "execution_count": 68,
   "id": "b9e84e85-cb06-4af5-813d-3799c744b666",
   "metadata": {},
   "outputs": [
    {
     "data": {
      "text/html": [
       "<div>\n",
       "<style scoped>\n",
       "    .dataframe tbody tr th:only-of-type {\n",
       "        vertical-align: middle;\n",
       "    }\n",
       "\n",
       "    .dataframe tbody tr th {\n",
       "        vertical-align: top;\n",
       "    }\n",
       "\n",
       "    .dataframe thead th {\n",
       "        text-align: right;\n",
       "    }\n",
       "</style>\n",
       "<table border=\"1\" class=\"dataframe\">\n",
       "  <thead>\n",
       "    <tr style=\"text-align: right;\">\n",
       "      <th></th>\n",
       "      <th>inputDate</th>\n",
       "      <th>memo</th>\n",
       "      <th>type</th>\n",
       "      <th>categoryName</th>\n",
       "      <th>month</th>\n",
       "      <th>year</th>\n",
       "      <th>amount(dollar)</th>\n",
       "    </tr>\n",
       "  </thead>\n",
       "  <tbody>\n",
       "  </tbody>\n",
       "</table>\n",
       "</div>"
      ],
      "text/plain": [
       "Empty DataFrame\n",
       "Columns: [inputDate, memo, type, categoryName, month, year, amount(dollar)]\n",
       "Index: []"
      ]
     },
     "execution_count": 68,
     "metadata": {},
     "output_type": "execute_result"
    }
   ],
   "source": [
    "aug[aug['categoryName'] == 'Oneoff expenses']"
   ]
  }
 ],
 "metadata": {
  "kernelspec": {
   "display_name": "Python 3 (ipykernel)",
   "language": "python",
   "name": "python3"
  },
  "language_info": {
   "codemirror_mode": {
    "name": "ipython",
    "version": 3
   },
   "file_extension": ".py",
   "mimetype": "text/x-python",
   "name": "python",
   "nbconvert_exporter": "python",
   "pygments_lexer": "ipython3",
   "version": "3.9.7"
  }
 },
 "nbformat": 4,
 "nbformat_minor": 5
}
